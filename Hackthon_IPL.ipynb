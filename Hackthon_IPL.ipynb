{
 "cells": [
  {
   "cell_type": "code",
   "execution_count": 76,
   "id": "874b72eb",
   "metadata": {},
   "outputs": [],
   "source": [
    "import numpy as np\n",
    "import pandas as pd\n"
   ]
  },
  {
   "cell_type": "code",
   "execution_count": 77,
   "id": "9340bc63",
   "metadata": {},
   "outputs": [],
   "source": [
    "df = pd.read_csv(r\"C:\\Users\\sruthi\\Downloads\\deliveries.csv\")"
   ]
  },
  {
   "cell_type": "code",
   "execution_count": 78,
   "id": "1f44b4e4",
   "metadata": {},
   "outputs": [
    {
     "data": {
      "text/html": [
       "<div>\n",
       "<style scoped>\n",
       "    .dataframe tbody tr th:only-of-type {\n",
       "        vertical-align: middle;\n",
       "    }\n",
       "\n",
       "    .dataframe tbody tr th {\n",
       "        vertical-align: top;\n",
       "    }\n",
       "\n",
       "    .dataframe thead th {\n",
       "        text-align: right;\n",
       "    }\n",
       "</style>\n",
       "<table border=\"1\" class=\"dataframe\">\n",
       "  <thead>\n",
       "    <tr style=\"text-align: right;\">\n",
       "      <th></th>\n",
       "      <th>match_id</th>\n",
       "      <th>inning</th>\n",
       "      <th>batting_team</th>\n",
       "      <th>bowling_team</th>\n",
       "      <th>over</th>\n",
       "      <th>ball</th>\n",
       "      <th>batsman</th>\n",
       "      <th>non_striker</th>\n",
       "      <th>bowler</th>\n",
       "      <th>is_super_over</th>\n",
       "      <th>...</th>\n",
       "      <th>bye_runs</th>\n",
       "      <th>legbye_runs</th>\n",
       "      <th>noball_runs</th>\n",
       "      <th>penalty_runs</th>\n",
       "      <th>batsman_runs</th>\n",
       "      <th>extra_runs</th>\n",
       "      <th>total_runs</th>\n",
       "      <th>player_dismissed</th>\n",
       "      <th>dismissal_kind</th>\n",
       "      <th>fielder</th>\n",
       "    </tr>\n",
       "  </thead>\n",
       "  <tbody>\n",
       "    <tr>\n",
       "      <th>0</th>\n",
       "      <td>1</td>\n",
       "      <td>1</td>\n",
       "      <td>Sunrisers Hyderabad</td>\n",
       "      <td>Royal Challengers Bangalore</td>\n",
       "      <td>1</td>\n",
       "      <td>1</td>\n",
       "      <td>DA Warner</td>\n",
       "      <td>S Dhawan</td>\n",
       "      <td>TS Mills</td>\n",
       "      <td>0</td>\n",
       "      <td>...</td>\n",
       "      <td>0</td>\n",
       "      <td>0</td>\n",
       "      <td>0</td>\n",
       "      <td>0</td>\n",
       "      <td>0</td>\n",
       "      <td>0</td>\n",
       "      <td>0</td>\n",
       "      <td>NaN</td>\n",
       "      <td>NaN</td>\n",
       "      <td>NaN</td>\n",
       "    </tr>\n",
       "    <tr>\n",
       "      <th>1</th>\n",
       "      <td>1</td>\n",
       "      <td>1</td>\n",
       "      <td>Sunrisers Hyderabad</td>\n",
       "      <td>Royal Challengers Bangalore</td>\n",
       "      <td>1</td>\n",
       "      <td>2</td>\n",
       "      <td>DA Warner</td>\n",
       "      <td>S Dhawan</td>\n",
       "      <td>TS Mills</td>\n",
       "      <td>0</td>\n",
       "      <td>...</td>\n",
       "      <td>0</td>\n",
       "      <td>0</td>\n",
       "      <td>0</td>\n",
       "      <td>0</td>\n",
       "      <td>0</td>\n",
       "      <td>0</td>\n",
       "      <td>0</td>\n",
       "      <td>NaN</td>\n",
       "      <td>NaN</td>\n",
       "      <td>NaN</td>\n",
       "    </tr>\n",
       "    <tr>\n",
       "      <th>2</th>\n",
       "      <td>1</td>\n",
       "      <td>1</td>\n",
       "      <td>Sunrisers Hyderabad</td>\n",
       "      <td>Royal Challengers Bangalore</td>\n",
       "      <td>1</td>\n",
       "      <td>3</td>\n",
       "      <td>DA Warner</td>\n",
       "      <td>S Dhawan</td>\n",
       "      <td>TS Mills</td>\n",
       "      <td>0</td>\n",
       "      <td>...</td>\n",
       "      <td>0</td>\n",
       "      <td>0</td>\n",
       "      <td>0</td>\n",
       "      <td>0</td>\n",
       "      <td>4</td>\n",
       "      <td>0</td>\n",
       "      <td>4</td>\n",
       "      <td>NaN</td>\n",
       "      <td>NaN</td>\n",
       "      <td>NaN</td>\n",
       "    </tr>\n",
       "    <tr>\n",
       "      <th>3</th>\n",
       "      <td>1</td>\n",
       "      <td>1</td>\n",
       "      <td>Sunrisers Hyderabad</td>\n",
       "      <td>Royal Challengers Bangalore</td>\n",
       "      <td>1</td>\n",
       "      <td>4</td>\n",
       "      <td>DA Warner</td>\n",
       "      <td>S Dhawan</td>\n",
       "      <td>TS Mills</td>\n",
       "      <td>0</td>\n",
       "      <td>...</td>\n",
       "      <td>0</td>\n",
       "      <td>0</td>\n",
       "      <td>0</td>\n",
       "      <td>0</td>\n",
       "      <td>0</td>\n",
       "      <td>0</td>\n",
       "      <td>0</td>\n",
       "      <td>NaN</td>\n",
       "      <td>NaN</td>\n",
       "      <td>NaN</td>\n",
       "    </tr>\n",
       "    <tr>\n",
       "      <th>4</th>\n",
       "      <td>1</td>\n",
       "      <td>1</td>\n",
       "      <td>Sunrisers Hyderabad</td>\n",
       "      <td>Royal Challengers Bangalore</td>\n",
       "      <td>1</td>\n",
       "      <td>5</td>\n",
       "      <td>DA Warner</td>\n",
       "      <td>S Dhawan</td>\n",
       "      <td>TS Mills</td>\n",
       "      <td>0</td>\n",
       "      <td>...</td>\n",
       "      <td>0</td>\n",
       "      <td>0</td>\n",
       "      <td>0</td>\n",
       "      <td>0</td>\n",
       "      <td>0</td>\n",
       "      <td>2</td>\n",
       "      <td>2</td>\n",
       "      <td>NaN</td>\n",
       "      <td>NaN</td>\n",
       "      <td>NaN</td>\n",
       "    </tr>\n",
       "  </tbody>\n",
       "</table>\n",
       "<p>5 rows × 21 columns</p>\n",
       "</div>"
      ],
      "text/plain": [
       "   match_id  inning         batting_team                 bowling_team  over  \\\n",
       "0         1       1  Sunrisers Hyderabad  Royal Challengers Bangalore     1   \n",
       "1         1       1  Sunrisers Hyderabad  Royal Challengers Bangalore     1   \n",
       "2         1       1  Sunrisers Hyderabad  Royal Challengers Bangalore     1   \n",
       "3         1       1  Sunrisers Hyderabad  Royal Challengers Bangalore     1   \n",
       "4         1       1  Sunrisers Hyderabad  Royal Challengers Bangalore     1   \n",
       "\n",
       "   ball    batsman non_striker    bowler  is_super_over  ...  bye_runs  \\\n",
       "0     1  DA Warner    S Dhawan  TS Mills              0  ...         0   \n",
       "1     2  DA Warner    S Dhawan  TS Mills              0  ...         0   \n",
       "2     3  DA Warner    S Dhawan  TS Mills              0  ...         0   \n",
       "3     4  DA Warner    S Dhawan  TS Mills              0  ...         0   \n",
       "4     5  DA Warner    S Dhawan  TS Mills              0  ...         0   \n",
       "\n",
       "   legbye_runs  noball_runs  penalty_runs  batsman_runs  extra_runs  \\\n",
       "0            0            0             0             0           0   \n",
       "1            0            0             0             0           0   \n",
       "2            0            0             0             4           0   \n",
       "3            0            0             0             0           0   \n",
       "4            0            0             0             0           2   \n",
       "\n",
       "   total_runs  player_dismissed dismissal_kind fielder  \n",
       "0           0               NaN            NaN     NaN  \n",
       "1           0               NaN            NaN     NaN  \n",
       "2           4               NaN            NaN     NaN  \n",
       "3           0               NaN            NaN     NaN  \n",
       "4           2               NaN            NaN     NaN  \n",
       "\n",
       "[5 rows x 21 columns]"
      ]
     },
     "execution_count": 78,
     "metadata": {},
     "output_type": "execute_result"
    }
   ],
   "source": [
    "df.head()"
   ]
  },
  {
   "cell_type": "code",
   "execution_count": 79,
   "id": "81ab158f",
   "metadata": {},
   "outputs": [
    {
     "data": {
      "text/plain": [
       "(179078, 21)"
      ]
     },
     "execution_count": 79,
     "metadata": {},
     "output_type": "execute_result"
    }
   ],
   "source": [
    "df.shape"
   ]
  },
  {
   "cell_type": "code",
   "execution_count": 80,
   "id": "87c0be45",
   "metadata": {},
   "outputs": [],
   "source": [
    "df1 = pd.read_csv(r\"C:\\Users\\sruthi\\Downloads\\matches.csv\")"
   ]
  },
  {
   "cell_type": "code",
   "execution_count": 81,
   "id": "4f6ba7a9",
   "metadata": {
    "scrolled": false
   },
   "outputs": [
    {
     "data": {
      "text/html": [
       "<div>\n",
       "<style scoped>\n",
       "    .dataframe tbody tr th:only-of-type {\n",
       "        vertical-align: middle;\n",
       "    }\n",
       "\n",
       "    .dataframe tbody tr th {\n",
       "        vertical-align: top;\n",
       "    }\n",
       "\n",
       "    .dataframe thead th {\n",
       "        text-align: right;\n",
       "    }\n",
       "</style>\n",
       "<table border=\"1\" class=\"dataframe\">\n",
       "  <thead>\n",
       "    <tr style=\"text-align: right;\">\n",
       "      <th></th>\n",
       "      <th>id</th>\n",
       "      <th>season</th>\n",
       "      <th>city</th>\n",
       "      <th>date</th>\n",
       "      <th>team1</th>\n",
       "      <th>team2</th>\n",
       "      <th>toss_winner</th>\n",
       "      <th>toss_decision</th>\n",
       "      <th>result</th>\n",
       "      <th>dl_applied</th>\n",
       "      <th>winner</th>\n",
       "      <th>win_by_runs</th>\n",
       "      <th>win_by_wickets</th>\n",
       "      <th>player_of_match</th>\n",
       "      <th>venue</th>\n",
       "      <th>umpire1</th>\n",
       "      <th>umpire2</th>\n",
       "      <th>umpire3</th>\n",
       "    </tr>\n",
       "  </thead>\n",
       "  <tbody>\n",
       "    <tr>\n",
       "      <th>0</th>\n",
       "      <td>1</td>\n",
       "      <td>2017</td>\n",
       "      <td>Hyderabad</td>\n",
       "      <td>2017-04-05</td>\n",
       "      <td>Sunrisers Hyderabad</td>\n",
       "      <td>Royal Challengers Bangalore</td>\n",
       "      <td>Royal Challengers Bangalore</td>\n",
       "      <td>field</td>\n",
       "      <td>normal</td>\n",
       "      <td>0</td>\n",
       "      <td>Sunrisers Hyderabad</td>\n",
       "      <td>35</td>\n",
       "      <td>0</td>\n",
       "      <td>Yuvraj Singh</td>\n",
       "      <td>Rajiv Gandhi International Stadium, Uppal</td>\n",
       "      <td>AY Dandekar</td>\n",
       "      <td>NJ Llong</td>\n",
       "      <td>NaN</td>\n",
       "    </tr>\n",
       "    <tr>\n",
       "      <th>1</th>\n",
       "      <td>2</td>\n",
       "      <td>2017</td>\n",
       "      <td>Pune</td>\n",
       "      <td>2017-04-06</td>\n",
       "      <td>Mumbai Indians</td>\n",
       "      <td>Rising Pune Supergiant</td>\n",
       "      <td>Rising Pune Supergiant</td>\n",
       "      <td>field</td>\n",
       "      <td>normal</td>\n",
       "      <td>0</td>\n",
       "      <td>Rising Pune Supergiant</td>\n",
       "      <td>0</td>\n",
       "      <td>7</td>\n",
       "      <td>SPD Smith</td>\n",
       "      <td>Maharashtra Cricket Association Stadium</td>\n",
       "      <td>A Nand Kishore</td>\n",
       "      <td>S Ravi</td>\n",
       "      <td>NaN</td>\n",
       "    </tr>\n",
       "    <tr>\n",
       "      <th>2</th>\n",
       "      <td>3</td>\n",
       "      <td>2017</td>\n",
       "      <td>Rajkot</td>\n",
       "      <td>2017-04-07</td>\n",
       "      <td>Gujarat Lions</td>\n",
       "      <td>Kolkata Knight Riders</td>\n",
       "      <td>Kolkata Knight Riders</td>\n",
       "      <td>field</td>\n",
       "      <td>normal</td>\n",
       "      <td>0</td>\n",
       "      <td>Kolkata Knight Riders</td>\n",
       "      <td>0</td>\n",
       "      <td>10</td>\n",
       "      <td>CA Lynn</td>\n",
       "      <td>Saurashtra Cricket Association Stadium</td>\n",
       "      <td>Nitin Menon</td>\n",
       "      <td>CK Nandan</td>\n",
       "      <td>NaN</td>\n",
       "    </tr>\n",
       "    <tr>\n",
       "      <th>3</th>\n",
       "      <td>4</td>\n",
       "      <td>2017</td>\n",
       "      <td>Indore</td>\n",
       "      <td>2017-04-08</td>\n",
       "      <td>Rising Pune Supergiant</td>\n",
       "      <td>Kings XI Punjab</td>\n",
       "      <td>Kings XI Punjab</td>\n",
       "      <td>field</td>\n",
       "      <td>normal</td>\n",
       "      <td>0</td>\n",
       "      <td>Kings XI Punjab</td>\n",
       "      <td>0</td>\n",
       "      <td>6</td>\n",
       "      <td>GJ Maxwell</td>\n",
       "      <td>Holkar Cricket Stadium</td>\n",
       "      <td>AK Chaudhary</td>\n",
       "      <td>C Shamshuddin</td>\n",
       "      <td>NaN</td>\n",
       "    </tr>\n",
       "    <tr>\n",
       "      <th>4</th>\n",
       "      <td>5</td>\n",
       "      <td>2017</td>\n",
       "      <td>Bangalore</td>\n",
       "      <td>2017-04-08</td>\n",
       "      <td>Royal Challengers Bangalore</td>\n",
       "      <td>Delhi Daredevils</td>\n",
       "      <td>Royal Challengers Bangalore</td>\n",
       "      <td>bat</td>\n",
       "      <td>normal</td>\n",
       "      <td>0</td>\n",
       "      <td>Royal Challengers Bangalore</td>\n",
       "      <td>15</td>\n",
       "      <td>0</td>\n",
       "      <td>KM Jadhav</td>\n",
       "      <td>M Chinnaswamy Stadium</td>\n",
       "      <td>NaN</td>\n",
       "      <td>NaN</td>\n",
       "      <td>NaN</td>\n",
       "    </tr>\n",
       "  </tbody>\n",
       "</table>\n",
       "</div>"
      ],
      "text/plain": [
       "   id  season       city        date                        team1  \\\n",
       "0   1    2017  Hyderabad  2017-04-05          Sunrisers Hyderabad   \n",
       "1   2    2017       Pune  2017-04-06               Mumbai Indians   \n",
       "2   3    2017     Rajkot  2017-04-07                Gujarat Lions   \n",
       "3   4    2017     Indore  2017-04-08       Rising Pune Supergiant   \n",
       "4   5    2017  Bangalore  2017-04-08  Royal Challengers Bangalore   \n",
       "\n",
       "                         team2                  toss_winner toss_decision  \\\n",
       "0  Royal Challengers Bangalore  Royal Challengers Bangalore         field   \n",
       "1       Rising Pune Supergiant       Rising Pune Supergiant         field   \n",
       "2        Kolkata Knight Riders        Kolkata Knight Riders         field   \n",
       "3              Kings XI Punjab              Kings XI Punjab         field   \n",
       "4             Delhi Daredevils  Royal Challengers Bangalore           bat   \n",
       "\n",
       "   result  dl_applied                       winner  win_by_runs  \\\n",
       "0  normal           0          Sunrisers Hyderabad           35   \n",
       "1  normal           0       Rising Pune Supergiant            0   \n",
       "2  normal           0        Kolkata Knight Riders            0   \n",
       "3  normal           0              Kings XI Punjab            0   \n",
       "4  normal           0  Royal Challengers Bangalore           15   \n",
       "\n",
       "   win_by_wickets player_of_match                                      venue  \\\n",
       "0               0    Yuvraj Singh  Rajiv Gandhi International Stadium, Uppal   \n",
       "1               7       SPD Smith    Maharashtra Cricket Association Stadium   \n",
       "2              10         CA Lynn     Saurashtra Cricket Association Stadium   \n",
       "3               6      GJ Maxwell                     Holkar Cricket Stadium   \n",
       "4               0       KM Jadhav                      M Chinnaswamy Stadium   \n",
       "\n",
       "          umpire1        umpire2 umpire3  \n",
       "0     AY Dandekar       NJ Llong     NaN  \n",
       "1  A Nand Kishore         S Ravi     NaN  \n",
       "2     Nitin Menon      CK Nandan     NaN  \n",
       "3    AK Chaudhary  C Shamshuddin     NaN  \n",
       "4             NaN            NaN     NaN  "
      ]
     },
     "execution_count": 81,
     "metadata": {},
     "output_type": "execute_result"
    }
   ],
   "source": [
    "df1.head()"
   ]
  },
  {
   "cell_type": "code",
   "execution_count": 82,
   "id": "a8887a6b",
   "metadata": {},
   "outputs": [
    {
     "data": {
      "text/plain": [
       "(756, 18)"
      ]
     },
     "execution_count": 82,
     "metadata": {},
     "output_type": "execute_result"
    }
   ],
   "source": [
    "df1.shape"
   ]
  },
  {
   "cell_type": "code",
   "execution_count": 97,
   "id": "eb6748ec",
   "metadata": {},
   "outputs": [
    {
     "data": {
      "text/plain": [
       "23"
      ]
     },
     "execution_count": 97,
     "metadata": {},
     "output_type": "execute_result"
    }
   ],
   "source": [
    "df.duplicated().sum()"
   ]
  },
  {
   "cell_type": "code",
   "execution_count": 98,
   "id": "6652dc8f",
   "metadata": {},
   "outputs": [
    {
     "data": {
      "text/plain": [
       "0"
      ]
     },
     "execution_count": 98,
     "metadata": {},
     "output_type": "execute_result"
    }
   ],
   "source": [
    "df1.duplicated().sum()"
   ]
  },
  {
   "cell_type": "code",
   "execution_count": 99,
   "id": "1c6c9db4",
   "metadata": {
    "scrolled": true
   },
   "outputs": [
    {
     "data": {
      "text/plain": [
       "23"
      ]
     },
     "execution_count": 99,
     "metadata": {},
     "output_type": "execute_result"
    }
   ],
   "source": [
    "data.duplicated().sum()"
   ]
  },
  {
   "cell_type": "code",
   "execution_count": 113,
   "id": "8be12a41",
   "metadata": {},
   "outputs": [],
   "source": [
    "data1 = data.drop_duplicates"
   ]
  },
  {
   "cell_type": "code",
   "execution_count": 114,
   "id": "711c9123",
   "metadata": {
    "scrolled": false
   },
   "outputs": [
    {
     "data": {
      "text/plain": [
       "<bound method DataFrame.drop_duplicates of         match_id  inning         batting_team                 bowling_team  \\\n",
       "0              1       1  Sunrisers Hyderabad  Royal Challengers Bangalore   \n",
       "1              1       1  Sunrisers Hyderabad  Royal Challengers Bangalore   \n",
       "2              1       1  Sunrisers Hyderabad  Royal Challengers Bangalore   \n",
       "3              1       1  Sunrisers Hyderabad  Royal Challengers Bangalore   \n",
       "4              1       1  Sunrisers Hyderabad  Royal Challengers Bangalore   \n",
       "...          ...     ...                  ...                          ...   \n",
       "179073     11415       2  Chennai Super Kings               Mumbai Indians   \n",
       "179074     11415       2  Chennai Super Kings               Mumbai Indians   \n",
       "179075     11415       2  Chennai Super Kings               Mumbai Indians   \n",
       "179076     11415       2  Chennai Super Kings               Mumbai Indians   \n",
       "179077     11415       2  Chennai Super Kings               Mumbai Indians   \n",
       "\n",
       "        over  ball    batsman non_striker      bowler  is_super_over  ...  \\\n",
       "0          1     1  DA Warner    S Dhawan    TS Mills              0  ...   \n",
       "1          1     2  DA Warner    S Dhawan    TS Mills              0  ...   \n",
       "2          1     3  DA Warner    S Dhawan    TS Mills              0  ...   \n",
       "3          1     4  DA Warner    S Dhawan    TS Mills              0  ...   \n",
       "4          1     5  DA Warner    S Dhawan    TS Mills              0  ...   \n",
       "...      ...   ...        ...         ...         ...            ...  ...   \n",
       "179073    20     2  RA Jadeja   SR Watson  SL Malinga              0  ...   \n",
       "179074    20     3  SR Watson   RA Jadeja  SL Malinga              0  ...   \n",
       "179075    20     4  SR Watson   RA Jadeja  SL Malinga              0  ...   \n",
       "179076    20     5  SN Thakur   RA Jadeja  SL Malinga              0  ...   \n",
       "179077    20     6  SN Thakur   RA Jadeja  SL Malinga              0  ...   \n",
       "\n",
       "        result  dl_applied               winner  win_by_runs  win_by_wickets  \\\n",
       "0       normal           0  Sunrisers Hyderabad           35               0   \n",
       "1       normal           0  Sunrisers Hyderabad           35               0   \n",
       "2       normal           0  Sunrisers Hyderabad           35               0   \n",
       "3       normal           0  Sunrisers Hyderabad           35               0   \n",
       "4       normal           0  Sunrisers Hyderabad           35               0   \n",
       "...        ...         ...                  ...          ...             ...   \n",
       "179073  normal           0       Mumbai Indians            1               0   \n",
       "179074  normal           0       Mumbai Indians            1               0   \n",
       "179075  normal           0       Mumbai Indians            1               0   \n",
       "179076  normal           0       Mumbai Indians            1               0   \n",
       "179077  normal           0       Mumbai Indians            1               0   \n",
       "\n",
       "        player_of_match                                      venue  \\\n",
       "0          Yuvraj Singh  Rajiv Gandhi International Stadium, Uppal   \n",
       "1          Yuvraj Singh  Rajiv Gandhi International Stadium, Uppal   \n",
       "2          Yuvraj Singh  Rajiv Gandhi International Stadium, Uppal   \n",
       "3          Yuvraj Singh  Rajiv Gandhi International Stadium, Uppal   \n",
       "4          Yuvraj Singh  Rajiv Gandhi International Stadium, Uppal   \n",
       "...                 ...                                        ...   \n",
       "179073        JJ Bumrah         Rajiv Gandhi Intl. Cricket Stadium   \n",
       "179074        JJ Bumrah         Rajiv Gandhi Intl. Cricket Stadium   \n",
       "179075        JJ Bumrah         Rajiv Gandhi Intl. Cricket Stadium   \n",
       "179076        JJ Bumrah         Rajiv Gandhi Intl. Cricket Stadium   \n",
       "179077        JJ Bumrah         Rajiv Gandhi Intl. Cricket Stadium   \n",
       "\n",
       "            umpire1    umpire2      umpire3  \n",
       "0       AY Dandekar   NJ Llong          NaN  \n",
       "1       AY Dandekar   NJ Llong          NaN  \n",
       "2       AY Dandekar   NJ Llong          NaN  \n",
       "3       AY Dandekar   NJ Llong          NaN  \n",
       "4       AY Dandekar   NJ Llong          NaN  \n",
       "...             ...        ...          ...  \n",
       "179073  Nitin Menon  Ian Gould  Nigel Llong  \n",
       "179074  Nitin Menon  Ian Gould  Nigel Llong  \n",
       "179075  Nitin Menon  Ian Gould  Nigel Llong  \n",
       "179076  Nitin Menon  Ian Gould  Nigel Llong  \n",
       "179077  Nitin Menon  Ian Gould  Nigel Llong  \n",
       "\n",
       "[179078 rows x 39 columns]>"
      ]
     },
     "execution_count": 114,
     "metadata": {},
     "output_type": "execute_result"
    }
   ],
   "source": [
    "data1"
   ]
  },
  {
   "cell_type": "markdown",
   "id": "830449a2",
   "metadata": {},
   "source": [
    "#### 1. Which of the following is the right way to merge 2 datasets for getting better insights from the data"
   ]
  },
  {
   "cell_type": "markdown",
   "id": "39761d55",
   "metadata": {},
   "source": [
    "* left=match_id, right=id\n",
    "* left=match_id, right=dl_applied\n",
    "* Both A and B\n",
    "* None of the above"
   ]
  },
  {
   "cell_type": "code",
   "execution_count": 93,
   "id": "f9c86eea",
   "metadata": {},
   "outputs": [],
   "source": [
    "data = pd.merge(df, df1, left_on='match_id', right_on='id',how='inner')"
   ]
  },
  {
   "cell_type": "code",
   "execution_count": 95,
   "id": "17a9af3e",
   "metadata": {
    "scrolled": false
   },
   "outputs": [
    {
     "data": {
      "text/html": [
       "<div>\n",
       "<style scoped>\n",
       "    .dataframe tbody tr th:only-of-type {\n",
       "        vertical-align: middle;\n",
       "    }\n",
       "\n",
       "    .dataframe tbody tr th {\n",
       "        vertical-align: top;\n",
       "    }\n",
       "\n",
       "    .dataframe thead th {\n",
       "        text-align: right;\n",
       "    }\n",
       "</style>\n",
       "<table border=\"1\" class=\"dataframe\">\n",
       "  <thead>\n",
       "    <tr style=\"text-align: right;\">\n",
       "      <th></th>\n",
       "      <th>match_id</th>\n",
       "      <th>inning</th>\n",
       "      <th>batting_team</th>\n",
       "      <th>bowling_team</th>\n",
       "      <th>over</th>\n",
       "      <th>ball</th>\n",
       "      <th>batsman</th>\n",
       "      <th>non_striker</th>\n",
       "      <th>bowler</th>\n",
       "      <th>is_super_over</th>\n",
       "      <th>...</th>\n",
       "      <th>result</th>\n",
       "      <th>dl_applied</th>\n",
       "      <th>winner</th>\n",
       "      <th>win_by_runs</th>\n",
       "      <th>win_by_wickets</th>\n",
       "      <th>player_of_match</th>\n",
       "      <th>venue</th>\n",
       "      <th>umpire1</th>\n",
       "      <th>umpire2</th>\n",
       "      <th>umpire3</th>\n",
       "    </tr>\n",
       "  </thead>\n",
       "  <tbody>\n",
       "    <tr>\n",
       "      <th>0</th>\n",
       "      <td>1</td>\n",
       "      <td>1</td>\n",
       "      <td>Sunrisers Hyderabad</td>\n",
       "      <td>Royal Challengers Bangalore</td>\n",
       "      <td>1</td>\n",
       "      <td>1</td>\n",
       "      <td>DA Warner</td>\n",
       "      <td>S Dhawan</td>\n",
       "      <td>TS Mills</td>\n",
       "      <td>0</td>\n",
       "      <td>...</td>\n",
       "      <td>normal</td>\n",
       "      <td>0</td>\n",
       "      <td>Sunrisers Hyderabad</td>\n",
       "      <td>35</td>\n",
       "      <td>0</td>\n",
       "      <td>Yuvraj Singh</td>\n",
       "      <td>Rajiv Gandhi International Stadium, Uppal</td>\n",
       "      <td>AY Dandekar</td>\n",
       "      <td>NJ Llong</td>\n",
       "      <td>NaN</td>\n",
       "    </tr>\n",
       "    <tr>\n",
       "      <th>1</th>\n",
       "      <td>1</td>\n",
       "      <td>1</td>\n",
       "      <td>Sunrisers Hyderabad</td>\n",
       "      <td>Royal Challengers Bangalore</td>\n",
       "      <td>1</td>\n",
       "      <td>2</td>\n",
       "      <td>DA Warner</td>\n",
       "      <td>S Dhawan</td>\n",
       "      <td>TS Mills</td>\n",
       "      <td>0</td>\n",
       "      <td>...</td>\n",
       "      <td>normal</td>\n",
       "      <td>0</td>\n",
       "      <td>Sunrisers Hyderabad</td>\n",
       "      <td>35</td>\n",
       "      <td>0</td>\n",
       "      <td>Yuvraj Singh</td>\n",
       "      <td>Rajiv Gandhi International Stadium, Uppal</td>\n",
       "      <td>AY Dandekar</td>\n",
       "      <td>NJ Llong</td>\n",
       "      <td>NaN</td>\n",
       "    </tr>\n",
       "    <tr>\n",
       "      <th>2</th>\n",
       "      <td>1</td>\n",
       "      <td>1</td>\n",
       "      <td>Sunrisers Hyderabad</td>\n",
       "      <td>Royal Challengers Bangalore</td>\n",
       "      <td>1</td>\n",
       "      <td>3</td>\n",
       "      <td>DA Warner</td>\n",
       "      <td>S Dhawan</td>\n",
       "      <td>TS Mills</td>\n",
       "      <td>0</td>\n",
       "      <td>...</td>\n",
       "      <td>normal</td>\n",
       "      <td>0</td>\n",
       "      <td>Sunrisers Hyderabad</td>\n",
       "      <td>35</td>\n",
       "      <td>0</td>\n",
       "      <td>Yuvraj Singh</td>\n",
       "      <td>Rajiv Gandhi International Stadium, Uppal</td>\n",
       "      <td>AY Dandekar</td>\n",
       "      <td>NJ Llong</td>\n",
       "      <td>NaN</td>\n",
       "    </tr>\n",
       "    <tr>\n",
       "      <th>3</th>\n",
       "      <td>1</td>\n",
       "      <td>1</td>\n",
       "      <td>Sunrisers Hyderabad</td>\n",
       "      <td>Royal Challengers Bangalore</td>\n",
       "      <td>1</td>\n",
       "      <td>4</td>\n",
       "      <td>DA Warner</td>\n",
       "      <td>S Dhawan</td>\n",
       "      <td>TS Mills</td>\n",
       "      <td>0</td>\n",
       "      <td>...</td>\n",
       "      <td>normal</td>\n",
       "      <td>0</td>\n",
       "      <td>Sunrisers Hyderabad</td>\n",
       "      <td>35</td>\n",
       "      <td>0</td>\n",
       "      <td>Yuvraj Singh</td>\n",
       "      <td>Rajiv Gandhi International Stadium, Uppal</td>\n",
       "      <td>AY Dandekar</td>\n",
       "      <td>NJ Llong</td>\n",
       "      <td>NaN</td>\n",
       "    </tr>\n",
       "    <tr>\n",
       "      <th>4</th>\n",
       "      <td>1</td>\n",
       "      <td>1</td>\n",
       "      <td>Sunrisers Hyderabad</td>\n",
       "      <td>Royal Challengers Bangalore</td>\n",
       "      <td>1</td>\n",
       "      <td>5</td>\n",
       "      <td>DA Warner</td>\n",
       "      <td>S Dhawan</td>\n",
       "      <td>TS Mills</td>\n",
       "      <td>0</td>\n",
       "      <td>...</td>\n",
       "      <td>normal</td>\n",
       "      <td>0</td>\n",
       "      <td>Sunrisers Hyderabad</td>\n",
       "      <td>35</td>\n",
       "      <td>0</td>\n",
       "      <td>Yuvraj Singh</td>\n",
       "      <td>Rajiv Gandhi International Stadium, Uppal</td>\n",
       "      <td>AY Dandekar</td>\n",
       "      <td>NJ Llong</td>\n",
       "      <td>NaN</td>\n",
       "    </tr>\n",
       "  </tbody>\n",
       "</table>\n",
       "<p>5 rows × 39 columns</p>\n",
       "</div>"
      ],
      "text/plain": [
       "   match_id  inning         batting_team                 bowling_team  over  \\\n",
       "0         1       1  Sunrisers Hyderabad  Royal Challengers Bangalore     1   \n",
       "1         1       1  Sunrisers Hyderabad  Royal Challengers Bangalore     1   \n",
       "2         1       1  Sunrisers Hyderabad  Royal Challengers Bangalore     1   \n",
       "3         1       1  Sunrisers Hyderabad  Royal Challengers Bangalore     1   \n",
       "4         1       1  Sunrisers Hyderabad  Royal Challengers Bangalore     1   \n",
       "\n",
       "   ball    batsman non_striker    bowler  is_super_over  ...  result  \\\n",
       "0     1  DA Warner    S Dhawan  TS Mills              0  ...  normal   \n",
       "1     2  DA Warner    S Dhawan  TS Mills              0  ...  normal   \n",
       "2     3  DA Warner    S Dhawan  TS Mills              0  ...  normal   \n",
       "3     4  DA Warner    S Dhawan  TS Mills              0  ...  normal   \n",
       "4     5  DA Warner    S Dhawan  TS Mills              0  ...  normal   \n",
       "\n",
       "   dl_applied               winner  win_by_runs  win_by_wickets  \\\n",
       "0           0  Sunrisers Hyderabad           35               0   \n",
       "1           0  Sunrisers Hyderabad           35               0   \n",
       "2           0  Sunrisers Hyderabad           35               0   \n",
       "3           0  Sunrisers Hyderabad           35               0   \n",
       "4           0  Sunrisers Hyderabad           35               0   \n",
       "\n",
       "   player_of_match                                      venue      umpire1  \\\n",
       "0     Yuvraj Singh  Rajiv Gandhi International Stadium, Uppal  AY Dandekar   \n",
       "1     Yuvraj Singh  Rajiv Gandhi International Stadium, Uppal  AY Dandekar   \n",
       "2     Yuvraj Singh  Rajiv Gandhi International Stadium, Uppal  AY Dandekar   \n",
       "3     Yuvraj Singh  Rajiv Gandhi International Stadium, Uppal  AY Dandekar   \n",
       "4     Yuvraj Singh  Rajiv Gandhi International Stadium, Uppal  AY Dandekar   \n",
       "\n",
       "    umpire2 umpire3  \n",
       "0  NJ Llong     NaN  \n",
       "1  NJ Llong     NaN  \n",
       "2  NJ Llong     NaN  \n",
       "3  NJ Llong     NaN  \n",
       "4  NJ Llong     NaN  \n",
       "\n",
       "[5 rows x 39 columns]"
      ]
     },
     "execution_count": 95,
     "metadata": {},
     "output_type": "execute_result"
    }
   ],
   "source": [
    "data.head()"
   ]
  },
  {
   "cell_type": "code",
   "execution_count": 105,
   "id": "a2e1ae8d",
   "metadata": {},
   "outputs": [
    {
     "data": {
      "text/plain": [
       "(179078, 39)"
      ]
     },
     "execution_count": 105,
     "metadata": {},
     "output_type": "execute_result"
    }
   ],
   "source": [
    "data.shape"
   ]
  },
  {
   "cell_type": "markdown",
   "id": "13b3fdf8",
   "metadata": {},
   "source": [
    "#### 2. The column which has the most missing values according to the data is:\n"
   ]
  },
  {
   "cell_type": "markdown",
   "id": "d1b48a22",
   "metadata": {},
   "source": [
    "* city\n",
    "* venue\n",
    "* umpire3\n",
    "* None of the above"
   ]
  },
  {
   "cell_type": "code",
   "execution_count": 10,
   "id": "d6c5b4bc",
   "metadata": {},
   "outputs": [
    {
     "data": {
      "text/plain": [
       "id                   0\n",
       "season               0\n",
       "city                 7\n",
       "date                 0\n",
       "team1                0\n",
       "team2                0\n",
       "toss_winner          0\n",
       "toss_decision        0\n",
       "result               0\n",
       "dl_applied           0\n",
       "winner               4\n",
       "win_by_runs          0\n",
       "win_by_wickets       0\n",
       "player_of_match      4\n",
       "venue                0\n",
       "umpire1              2\n",
       "umpire2              2\n",
       "umpire3            637\n",
       "dtype: int64"
      ]
     },
     "execution_count": 10,
     "metadata": {},
     "output_type": "execute_result"
    }
   ],
   "source": [
    "df1.isnull().sum()"
   ]
  },
  {
   "cell_type": "code",
   "execution_count": 12,
   "id": "3be2af21",
   "metadata": {},
   "outputs": [
    {
     "data": {
      "text/plain": [
       "array(['Hyderabad', 'Pune', 'Rajkot', 'Indore', 'Bangalore', 'Mumbai',\n",
       "       'Kolkata', 'Delhi', 'Chandigarh', 'Kanpur', 'Jaipur', 'Chennai',\n",
       "       'Cape Town', 'Port Elizabeth', 'Durban', 'Centurion',\n",
       "       'East London', 'Johannesburg', 'Kimberley', 'Bloemfontein',\n",
       "       'Ahmedabad', 'Cuttack', 'Nagpur', 'Dharamsala', 'Kochi',\n",
       "       'Visakhapatnam', 'Raipur', 'Ranchi', 'Abu Dhabi', 'Sharjah', nan,\n",
       "       'Mohali', 'Bengaluru'], dtype=object)"
      ]
     },
     "execution_count": 12,
     "metadata": {},
     "output_type": "execute_result"
    }
   ],
   "source": [
    "df1['city'].unique()"
   ]
  },
  {
   "cell_type": "markdown",
   "id": "2f0c6c9e",
   "metadata": {},
   "source": [
    "#### 3. City which hosted most number of seasons according to the data is:\n"
   ]
  },
  {
   "cell_type": "markdown",
   "id": "b1f9086c",
   "metadata": {},
   "source": [
    "* Abu Dhabi\n",
    "* Delhi\n",
    "* Bengaluru\n",
    "* Mumbai"
   ]
  },
  {
   "cell_type": "code",
   "execution_count": 67,
   "id": "222efd3c",
   "metadata": {},
   "outputs": [
    {
     "name": "stdout",
     "output_type": "stream",
     "text": [
      "The city that hosted the most seasons is 'Mumbai' with 101 seasons.\n"
     ]
    }
   ],
   "source": [
    "city_season_counts = df1['city'].value_counts()\n",
    "most_seasons_city = city_season_counts.idxmax()\n",
    "most_seasons_count = city_season_counts.max()\n",
    "print(f\"The city that hosted the most seasons is '{most_seasons_city}' with {most_seasons_count} seasons.\")"
   ]
  },
  {
   "cell_type": "markdown",
   "id": "58c7ab70",
   "metadata": {},
   "source": [
    "#### 4. Which year has the most number of matches played?"
   ]
  },
  {
   "cell_type": "markdown",
   "id": "1a199323",
   "metadata": {},
   "source": [
    "* 2011\n",
    "* 2013\n",
    "* 2019\n",
    "* 2014"
   ]
  },
  {
   "cell_type": "code",
   "execution_count": 14,
   "id": "bd2d86e8",
   "metadata": {},
   "outputs": [
    {
     "name": "stdout",
     "output_type": "stream",
     "text": [
      "Year with the most number of matches played: 2013\n"
     ]
    }
   ],
   "source": [
    "df1['year'] = pd.to_datetime(df1['date']).dt.year\n",
    "matches_per_year = df1['year'].value_counts()\n",
    "\n",
    "year_with_most_matches = matches_per_year.idxmax()\n",
    "\n",
    "print(\"Year with the most number of matches played:\", year_with_most_matches)"
   ]
  },
  {
   "cell_type": "code",
   "execution_count": 15,
   "id": "2e58f5c4",
   "metadata": {},
   "outputs": [
    {
     "name": "stdout",
     "output_type": "stream",
     "text": [
      "Maximum wins by Mumbai Indians in 2011: Mumbai Indians\n"
     ]
    }
   ],
   "source": [
    "mumbai_indians_2011 = df1[((df1['team1'] == 'Mumbai Indians') | (df1['team2'] == 'Mumbai Indians')) & (df1['season'] =\n",
    "max_wins_2011 = mumbai_indians_2011['winner'].value_counts().idxmax()\n",
    "\n",
    "print(\"Maximum wins by Mumbai Indians in 2011:\", max_wins_2011)"
   ]
  },
  {
   "cell_type": "code",
   "execution_count": 16,
   "id": "e170cb2a",
   "metadata": {},
   "outputs": [
    {
     "name": "stdout",
     "output_type": "stream",
     "text": [
      "Maximum wins by Mumbai Indians in 2011: Mumbai Indians\n"
     ]
    }
   ],
   "source": [
    "mumbai_indians_2011 = df1[((df1['team1'] == 'Mumbai Indians') | (df1['team2'] == 'Mumbai Indians')) & (df1['season'] == 2011)]\n",
    "max_wins_2011 = mumbai_indians_2011['winner'].value_counts().idxmax()\n",
    "\n",
    "print(\"Maximum wins by Mumbai Indians in 2011:\", max_wins_2011)"
   ]
  },
  {
   "cell_type": "code",
   "execution_count": 17,
   "id": "ddacbe25",
   "metadata": {},
   "outputs": [
    {
     "name": "stdout",
     "output_type": "stream",
     "text": [
      "<class 'pandas.core.frame.DataFrame'>\n",
      "RangeIndex: 756 entries, 0 to 755\n",
      "Data columns (total 19 columns):\n",
      " #   Column           Non-Null Count  Dtype \n",
      "---  ------           --------------  ----- \n",
      " 0   id               756 non-null    int64 \n",
      " 1   season           756 non-null    int64 \n",
      " 2   city             749 non-null    object\n",
      " 3   date             756 non-null    object\n",
      " 4   team1            756 non-null    object\n",
      " 5   team2            756 non-null    object\n",
      " 6   toss_winner      756 non-null    object\n",
      " 7   toss_decision    756 non-null    object\n",
      " 8   result           756 non-null    object\n",
      " 9   dl_applied       756 non-null    int64 \n",
      " 10  winner           752 non-null    object\n",
      " 11  win_by_runs      756 non-null    int64 \n",
      " 12  win_by_wickets   756 non-null    int64 \n",
      " 13  player_of_match  752 non-null    object\n",
      " 14  venue            756 non-null    object\n",
      " 15  umpire1          754 non-null    object\n",
      " 16  umpire2          754 non-null    object\n",
      " 17  umpire3          119 non-null    object\n",
      " 18  year             756 non-null    int64 \n",
      "dtypes: int64(6), object(13)\n",
      "memory usage: 112.3+ KB\n"
     ]
    }
   ],
   "source": [
    "df1.info()"
   ]
  },
  {
   "cell_type": "code",
   "execution_count": 20,
   "id": "3a0219a2",
   "metadata": {
    "scrolled": true
   },
   "outputs": [
    {
     "data": {
      "text/plain": [
       "array(['field', 'bat'], dtype=object)"
      ]
     },
     "execution_count": 20,
     "metadata": {},
     "output_type": "execute_result"
    }
   ],
   "source": [
    "df1['toss_decision'].unique()"
   ]
  },
  {
   "cell_type": "markdown",
   "id": "ff95b908",
   "metadata": {},
   "source": [
    "#### 5. Maximum wins by Mumbai Indians in 2011 are\n"
   ]
  },
  {
   "cell_type": "markdown",
   "id": "c2b0003d",
   "metadata": {},
   "source": [
    "* 10\n",
    "* 11\n",
    "* 8\n",
    "* 15"
   ]
  },
  {
   "cell_type": "code",
   "execution_count": 117,
   "id": "532d1e32",
   "metadata": {},
   "outputs": [
    {
     "name": "stdout",
     "output_type": "stream",
     "text": [
      "Mumbai Indians had 10 wins in the 2011 season.\n"
     ]
    }
   ],
   "source": [
    "mi_matches_2011 = df1[((df1['team1'] == 'Mumbai Indians') | (df1['team2'] == 'Mumbai Indians')) & (df1['season'] == 2011)]\n",
    "mi_wins_2011 = mi_matches_2011[mi_matches_2011['winner'] == 'Mumbai Indians'].shape[0]\n",
    "\n",
    "print(f\"Mumbai Indians had {mi_wins_2011} wins in the 2011 season.\")"
   ]
  },
  {
   "cell_type": "markdown",
   "id": "c34e972d",
   "metadata": {},
   "source": [
    "#### 6. For 'toss_decision' feature what kind of plot is suitable?\n"
   ]
  },
  {
   "cell_type": "markdown",
   "id": "0fc2ef14",
   "metadata": {},
   "source": [
    "* Bar plot\n",
    "* box plot\n",
    "* pie plot\n",
    "* scatter plot"
   ]
  },
  {
   "cell_type": "markdown",
   "id": "caa8ee83",
   "metadata": {},
   "source": [
    "#### 7.  What is the percentage of getting bat and field in feature 'toss_descision'?"
   ]
  },
  {
   "cell_type": "markdown",
   "id": "b1544631",
   "metadata": {},
   "source": [
    "* 38.8%, 61.2 %\n",
    "* 60.5%, 39.5%\n",
    "* 35.0%, 65.0   %\n",
    "* None of the above"
   ]
  },
  {
   "cell_type": "code",
   "execution_count": 55,
   "id": "80a8e106",
   "metadata": {},
   "outputs": [
    {
     "name": "stdout",
     "output_type": "stream",
     "text": [
      "Percentage of teams choosing to bat: 38.76%\n",
      "Percentage of teams choosing to field: 61.24%\n"
     ]
    }
   ],
   "source": [
    "decision_counts = df1['toss_decision'].value_counts()\n",
    "total_decisions = decision_counts.sum()\n",
    "\n",
    "percentage_bat = (decision_counts['bat'] / total_decisions) * 100\n",
    "percentage_field = (decision_counts['field'] / total_decisions) * 100\n",
    "\n",
    "print(f\"Percentage of teams choosing to bat: {percentage_bat:.2f}%\")\n",
    "print(f\"Percentage of teams choosing to field: {percentage_field:.2f}%\")"
   ]
  },
  {
   "cell_type": "markdown",
   "id": "a008f8b7",
   "metadata": {},
   "source": [
    "#### 8.  Which statement holds true\n",
    "*\n",
    "1 point\n",
    "A) Teams winning tosses and electing field first have won more number of matches.\n",
    "B) Teams winning tosses and electing bat first have won more number of matches.\n",
    "C) Both A and B\n",
    "D) None of the above"
   ]
  },
  {
   "cell_type": "code",
   "execution_count": 57,
   "id": "684bc154",
   "metadata": {},
   "outputs": [
    {
     "name": "stdout",
     "output_type": "stream",
     "text": [
      "A) Teams winning tosses and electing to field first have won more number of matches.\n"
     ]
    }
   ],
   "source": [
    "field_first_wins = df1[df1['toss_decision'] == 'field']['winner'].value_counts()\n",
    "bat_first_wins = df1[df1['toss_decision'] == 'bat']['winner'].value_counts()\n",
    "\n",
    "total_field_first_matches = field_first_wins.sum()\n",
    "total_bat_first_matches = bat_first_wins.sum()\n",
    "\n",
    "percentage_field_first_wins = (field_first_wins / total_field_first_matches) * 100\n",
    "percentage_bat_first_wins = (bat_first_wins / total_bat_first_matches) * 100\n",
    "\n",
    "\n",
    "if percentage_field_first_wins.sum() > percentage_bat_first_wins.sum():\n",
    "    result = \"A) Teams winning tosses and electing to field first have won more number of matches.\"\n",
    "elif percentage_field_first_wins.sum() < percentage_bat_first_wins.sum():\n",
    "    result = \"B) Teams winning tosses and electing to bat first have won more number of matches.\"\n",
    "else:\n",
    "    result = \"C) Both A and B.\"\n",
    "\n",
    "print(result)"
   ]
  },
  {
   "cell_type": "code",
   "execution_count": null,
   "id": "c581e11e",
   "metadata": {},
   "outputs": [],
   "source": []
  },
  {
   "cell_type": "markdown",
   "id": "c555fb4d",
   "metadata": {},
   "source": [
    "#### 9. In which years where taking batting second have won more number of matches?"
   ]
  },
  {
   "cell_type": "markdown",
   "id": "c4dc3393",
   "metadata": {},
   "source": [
    "* A) 2009, 2017\n",
    "* B) 2013, 2015\n",
    "* C) 2010, 2015\n",
    "* D) 2015, 2019"
   ]
  },
  {
   "cell_type": "code",
   "execution_count": 61,
   "id": "255d7208",
   "metadata": {},
   "outputs": [
    {
     "name": "stdout",
     "output_type": "stream",
     "text": [
      "Years where teams batting second have won more matches:\n",
      "[2008, 2011, 2014, 2015, 2016, 2017, 2018, 2019]\n"
     ]
    }
   ],
   "source": [
    "df1 = df1.dropna(subset=['toss_decision', 'winner'])\n",
    "\n",
    "\n",
    "batting_second_wins = df1[df1['toss_decision'] == 'field']['season'].value_counts()\n",
    "\n",
    "total_matches_per_season = df1['season'].value_counts()\n",
    "\n",
    "percentage_batting_second_wins = (batting_second_wins / total_matches_per_season) * 100\n",
    "\n",
    "\n",
    "years_more_batting_second_wins = percentage_batting_second_wins[percentage_batting_second_wins > 50].index.tolist()\n",
    "\n",
    "print(\"Years where teams batting second have won more matches:\")\n",
    "print(years_more_batting_second_wins)"
   ]
  },
  {
   "cell_type": "markdown",
   "id": "b1440cd4",
   "metadata": {},
   "source": [
    "#### 10. To plot the most consistent batsmen among top 10 run getters, what plotting technique we use?"
   ]
  },
  {
   "cell_type": "markdown",
   "id": "c29cd4ae",
   "metadata": {},
   "source": [
    "* line plot\n",
    "* scatter plot\n",
    "* count plot\n",
    "* box plot"
   ]
  },
  {
   "cell_type": "code",
   "execution_count": 66,
   "id": "84163a32",
   "metadata": {},
   "outputs": [
    {
     "data": {
      "image/png": "[encoded data removed]",
      "text/plain": [
       "<Figure size 1000x600 with 1 Axes>"
      ]
     },
     "metadata": {},
     "output_type": "display_data"
    }
   ],
   "source": [
    "total_runs_per_batsman = df.groupby('batsman')['total_runs'].sum()\n",
    "\n",
    "\n",
    "top_10_run_getters = total_runs_per_batsman.nlargest(10)\n",
    "average_runs_per_match = df.groupby('batsman')['total_runs'].sum() / df.groupby('batsman')['match_id'].nunique()\n",
    "\n",
    "average_runs_top_10 = average_runs_per_match.loc[top_10_run_getters.index]\n",
    "\n",
    "\n",
    "plt.figure(figsize=(10, 6))\n",
    "plt.plot(average_runs_top_10.index, average_runs_top_10.values, marker='o', linestyle='-', color='b')\n",
    "plt.title('Consistency of Top 10 Run-Getters')\n",
    "plt.xlabel('Batsman')\n",
    "plt.ylabel('Average Runs per Match')\n",
    "plt.xticks(rotation=45, ha='right')\n",
    "plt.show()"
   ]
  },
  {
   "cell_type": "markdown",
   "id": "52def489",
   "metadata": {},
   "source": [
    "#### 12. Most number of wickets taken by a bowler is"
   ]
  },
  {
   "cell_type": "markdown",
   "id": "bd74f7c1",
   "metadata": {},
   "source": [
    "* SL Malinga\n",
    "* DJ Bravo\n",
    "* Amit Mishra\n",
    "* Harbhajan Singh"
   ]
  },
  {
   "cell_type": "code",
   "execution_count": 32,
   "id": "0eefa8bd",
   "metadata": {},
   "outputs": [
    {
     "name": "stdout",
     "output_type": "stream",
     "text": [
      "The bowler with the most number of wickets is SL Malinga with 188 wickets.\n"
     ]
    }
   ],
   "source": [
    "wickets_data = df[df['dismissal_kind'].notnull()]\n",
    "\n",
    "wickets_count = wickets_data['bowler'].value_counts()\n",
    "\n",
    "\n",
    "most_wickets_bowler = wickets_count.idxmax()\n",
    "most_wickets_count = wickets_count.max()\n",
    "\n",
    "print(f\"The bowler with the most number of wickets is {most_wickets_bowler} with {most_wickets_count} wickets.\")"
   ]
  },
  {
   "cell_type": "markdown",
   "id": "dd2c93dc",
   "metadata": {},
   "source": [
    "#### 13.  What is the strike rate of Kohli in 2016\n",
    "*\n",
    "HINT: strike rate = (Total Runs / Total Balls Faced) * 100"
   ]
  },
  {
   "cell_type": "markdown",
   "id": "a8c43746",
   "metadata": {},
   "source": [
    "* 82.62\n",
    "* 80.55\n",
    "* 44.93\n",
    "* 43.34"
   ]
  },
  {
   "cell_type": "code",
   "execution_count": 116,
   "id": "33830e39",
   "metadata": {},
   "outputs": [
    {
     "name": "stdout",
     "output_type": "stream",
     "text": [
      "Virat Kohli's strike rate in 2016: nan\n"
     ]
    },
    {
     "name": "stderr",
     "output_type": "stream",
     "text": [
      "C:\\Users\\Akanksha\\AppData\\Local\\Temp\\ipykernel_19728\\3778622415.py:7: RuntimeWarning: invalid value encountered in longlong_scalars\n",
      "  strike_rate_kohli = (total_runs_kohli / total_balls_faced_kohli) * 100\n"
     ]
    }
   ],
   "source": [
    "kohli_2016_data = df[(df['batsman'] == 'Virat Kohli') & (df['match_id'].between(577, 636))]\n",
    "\n",
    "total_runs_kohli = kohli_2016_data['total_runs'].sum()\n",
    "total_balls_faced_kohli = kohli_2016_data.shape[0]\n",
    "\n",
    "\n",
    "strike_rate_kohli = (total_runs_kohli / total_balls_faced_kohli) * 100\n",
    "\n",
    "print(f\"Virat Kohli's strike rate in 2016: {strike_rate_kohli:.2f}\")"
   ]
  },
  {
   "cell_type": "markdown",
   "id": "369642b2",
   "metadata": {},
   "source": [
    "#### 14.  Bowlers with maximum number of extras:\n"
   ]
  },
  {
   "cell_type": "markdown",
   "id": "7f766836",
   "metadata": {},
   "source": [
    "* P Kumar\n",
    "* DJ Bravo\n",
    "* SR Watson\n",
    "* SL Malinga"
   ]
  },
  {
   "cell_type": "code",
   "execution_count": 37,
   "id": "2a444caa",
   "metadata": {},
   "outputs": [
    {
     "name": "stdout",
     "output_type": "stream",
     "text": [
      "Bowlers with the maximum number of extras:\n",
      "bowler\n",
      "SL Malinga    293\n",
      "Name: extra_runs, dtype: int64\n"
     ]
    }
   ],
   "source": [
    "extras_data = df[df['extra_runs'] > 0]\n",
    "\n",
    "\n",
    "extras_by_bowler = extras_data.groupby('bowler')['extra_runs'].sum()\n",
    "\n",
    "max_extras_bowlers = extras_by_bowler[extras_by_bowler == extras_by_bowler.max()]\n",
    "\n",
    "print(\"Bowlers with the maximum number of extras:\")\n",
    "print(max_extras_bowlers)"
   ]
  },
  {
   "cell_type": "markdown",
   "id": "6e0860f5",
   "metadata": {},
   "source": [
    "#### 15. Which venue has hosted most number of IPL matches?"
   ]
  },
  {
   "cell_type": "markdown",
   "id": "40f5bb42",
   "metadata": {},
   "source": [
    "* M Chinnaswamy Stadium\n",
    "* Feroz Shah Kotla\n",
    "* Eden Gardens\n",
    "* Rajiv Gandhi International Stadium"
   ]
  },
  {
   "cell_type": "code",
   "execution_count": 42,
   "id": "405fdd04",
   "metadata": {},
   "outputs": [
    {
     "name": "stdout",
     "output_type": "stream",
     "text": [
      "The venue that has hosted the most number of IPL matches is Eden Gardens with 77 matches.\n"
     ]
    }
   ],
   "source": [
    "matches_per_venue = df1['venue'].value_counts()\n",
    "\n",
    "most_matches_venue = matches_per_venue.idxmax()\n",
    "most_matches_count = matches_per_venue.max()\n",
    "\n",
    "print(f\"The venue that has hosted the most number of IPL matches is {most_matches_venue} with {most_matches_count} matches.\")"
   ]
  },
  {
   "cell_type": "markdown",
   "id": "70c4f09f",
   "metadata": {},
   "source": [
    "#### 16.In 2017 when sunrisers hyderabad clashed against Royal Challengers Bangalore which team player won player of the match?"
   ]
  },
  {
   "cell_type": "markdown",
   "id": "230fcde7",
   "metadata": {},
   "source": [
    "* AB de Villiers\n",
    "* Yuvraj Singh\n",
    "* V Kohli\n",
    "* DA Warner"
   ]
  },
  {
   "cell_type": "code",
   "execution_count": 48,
   "id": "639deb47",
   "metadata": {},
   "outputs": [
    {
     "name": "stdout",
     "output_type": "stream",
     "text": [
      "In 2017, when Sunrisers Hyderabad clashed against Royal Challengers Bangalore, the Player of the Match was Yuvraj Singh.\n"
     ]
    }
   ],
   "source": [
    "condition = (\n",
    "    ((df1['team1'] == 'Sunrisers Hyderabad') | (df1['team2'] == 'Sunrisers Hyderabad')) &\n",
    "    ((df1['team1'] == 'Royal Challengers Bangalore') | (df1['team2'] == 'Royal Challengers Bangalore')) &\n",
    "    (df1['season'] == 2017)\n",
    ")\n",
    "\n",
    "\n",
    "player_of_match = df1.loc[condition, 'player_of_match'].values[0]\n",
    "\n",
    "print(f\"In 2017, when Sunrisers Hyderabad clashed against Royal Challengers Bangalore, the Player of the Match was {player_of_match}.\")"
   ]
  },
  {
   "cell_type": "markdown",
   "id": "15d03f4f",
   "metadata": {},
   "source": [
    "#### 17.Across seasons who are the top three batsman's with most number of run out?"
   ]
  },
  {
   "cell_type": "markdown",
   "id": "08a48e4f",
   "metadata": {},
   "source": [
    "* MS Dhoni\n",
    "* Y Venugopal Rao\n",
    "* S Gill\n",
    "* RG Sharma\n",
    "* V Kohli"
   ]
  },
  {
   "cell_type": "code",
   "execution_count": 49,
   "id": "dfb5098e",
   "metadata": {},
   "outputs": [
    {
     "name": "stdout",
     "output_type": "stream",
     "text": [
      "Top three batsmen with the most run-outs across seasons:\n",
      "KD Karthik    32\n",
      "RG Sharma     32\n",
      "MS Dhoni      32\n",
      "dtype: int64\n"
     ]
    }
   ],
   "source": [
    "run_out_data = df[df['dismissal_kind'] == 'run out']\n",
    "\n",
    "run_out_counts = pd.concat([run_out_data['batsman'], run_out_data['non_striker']]).value_counts()\n",
    "\n",
    "top_three_run_out_batsmen = run_out_counts.head(3)\n",
    "\n",
    "print(\"Top three batsmen with the most run-outs across seasons:\")\n",
    "print(top_three_run_out_batsmen)"
   ]
  },
  {
   "cell_type": "markdown",
   "id": "82bea58c",
   "metadata": {},
   "source": [
    "#### 18.What are the total runs scored by V Kohli when the bowler was JJ Burmah?"
   ]
  },
  {
   "cell_type": "markdown",
   "id": "f2a5d196",
   "metadata": {},
   "source": [
    "* 111\n",
    "* 112\n",
    "* 113\n",
    "* 114"
   ]
  },
  {
   "cell_type": "code",
   "execution_count": 50,
   "id": "c63ed4ed",
   "metadata": {},
   "outputs": [
    {
     "name": "stdout",
     "output_type": "stream",
     "text": [
      "Total runs scored by V. Kohli against JJ Bumrah: 114\n"
     ]
    }
   ],
   "source": [
    "kohli_vs_bumrah_data = df[(df['batsman'] == 'V Kohli') & (df['bowler'] == 'JJ Bumrah')]\n",
    "\n",
    "total_runs_kohli_vs_bumrah = kohli_vs_bumrah_data['total_runs'].sum()\n",
    "\n",
    "print(f\"Total runs scored by V. Kohli against JJ Bumrah: {total_runs_kohli_vs_bumrah}\")"
   ]
  },
  {
   "cell_type": "markdown",
   "id": "262fbb1f",
   "metadata": {},
   "source": [
    "#### 19.Across all seasons which player was dismissed the maximum number of times via caught and bowled"
   ]
  },
  {
   "cell_type": "markdown",
   "id": "140bcdda",
   "metadata": {},
   "source": [
    "* SE Marsh\n",
    "* SK Raina\n",
    "* BA Stokes\n",
    "* RA Jadeja"
   ]
  },
  {
   "cell_type": "code",
   "execution_count": 51,
   "id": "64d77a93",
   "metadata": {},
   "outputs": [
    {
     "name": "stdout",
     "output_type": "stream",
     "text": [
      "The player dismissed the maximum number of times via 'caught and bowled' is SK Raina with 7 dismissals.\n"
     ]
    }
   ],
   "source": [
    "caught_and_bowled_data = df[df['dismissal_kind'] == 'caught and bowled']\n",
    "\n",
    "\n",
    "dismissals_counts = caught_and_bowled_data['player_dismissed'].value_counts()\n",
    "\n",
    "max_dismissals_player = dismissals_counts.idxmax()\n",
    "max_dismissals_count = dismissals_counts.max()\n",
    "\n",
    "print(f\"The player dismissed the maximum number of times via 'caught and bowled' is {max_dismissals_player} with {max_dismissals_count} dismissals.\")"
   ]
  },
  {
   "cell_type": "markdown",
   "id": "247f6d59",
   "metadata": {},
   "source": [
    "#### 20. which player has the highest hard-hitting ability?"
   ]
  },
  {
   "cell_type": "markdown",
   "id": "7ae23ae1",
   "metadata": {},
   "source": [
    "* AB de Villiers\n",
    "* CH Gayle\n",
    "* MS Dhoni\n",
    "* V Kohli"
   ]
  },
  {
   "cell_type": "code",
   "execution_count": 53,
   "id": "1f557ae2",
   "metadata": {},
   "outputs": [
    {
     "name": "stdout",
     "output_type": "stream",
     "text": [
      "The player with the highest hard-hitting ability (highest strike rate) among the mentioned players is CH Gayle with a strike rate of 155.64.\n"
     ]
    }
   ],
   "source": [
    "strike_rate_data = df.groupby('batsman').agg({'total_runs': 'sum', 'ball': 'count'})\n",
    "strike_rate_data['strike_rate'] = (strike_rate_data['total_runs'] / strike_rate_data['ball']) * 100\n",
    "\n",
    "selected_players = ['AB de Villiers', 'CH Gayle', 'MS Dhoni', 'V Kohli']\n",
    "selected_players_strike_rate = strike_rate_data.loc[selected_players, 'strike_rate']\n",
    "\n",
    "highest_strike_rate_player = selected_players_strike_rate.idxmax()\n",
    "highest_strike_rate_value = selected_players_strike_rate.max()\n",
    "\n",
    "print(f\"The player with the highest hard-hitting ability (highest strike rate) among the mentioned players is {highest_strike_rate_player} with a strike rate of {highest_strike_rate_value:.2f}.\")"
   ]
  },
  {
   "cell_type": "code",
   "execution_count": null,
   "id": "00dd63c0",
   "metadata": {},
   "outputs": [],
   "source": []
  }
 ],
 "metadata": {
  "kernelspec": {
   "display_name": "Python 3 (ipykernel)",
   "language": "python",
   "name": "python3"
  },
  "language_info": {
   "codemirror_mode": {
    "name": "ipython",
    "version": 3
   },
   "file_extension": ".py",
   "mimetype": "text/x-python",
   "name": "python",
   "nbconvert_exporter": "python",
   "pygments_lexer": "ipython3",
   "version": "3.10.9"
  }
 },
 "nbformat": 4,
 "nbformat_minor": 5
}
